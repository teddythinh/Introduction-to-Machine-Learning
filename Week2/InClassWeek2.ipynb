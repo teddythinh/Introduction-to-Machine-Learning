{
 "cells": [
  {
   "attachments": {},
   "cell_type": "markdown",
   "metadata": {},
   "source": [
    "Import the libraries"
   ]
  },
  {
   "cell_type": "code",
   "execution_count": 1,
   "metadata": {},
   "outputs": [],
   "source": [
    "import pandas as pd\n",
    "import numpy as np\n",
    "import matplotlib.pyplot as plt"
   ]
  },
  {
   "attachments": {},
   "cell_type": "markdown",
   "metadata": {},
   "source": [
    "Read the data from the csv file using **pandas** and visualize it using **matplotlib**"
   ]
  },
  {
   "cell_type": "code",
   "execution_count": 2,
   "metadata": {},
   "outputs": [
    {
     "data": {
      "image/png": "[encoded data removed]",
      "text/plain": [
       "<Figure size 640x480 with 1 Axes>"
      ]
     },
     "metadata": {},
     "output_type": "display_data"
    }
   ],
   "source": [
    "df = pd.read_csv('data-america.csv')\n",
    "# visualize the data\n",
    "x = df['x (thu nhap)']\n",
    "y = df['y (tieu dung)']\n",
    "plt.scatter(x, y, color='r')\n",
    "plt.xlabel(\"Thu nhập\")\n",
    "plt.ylabel(\"Tiêu dùng\")\n",
    "\n",
    "plt.show()"
   ]
  },
  {
   "attachments": {},
   "cell_type": "markdown",
   "metadata": {},
   "source": [
    "Function `predict(x, w, x)` to predict the output for a given input x, weight w and bias x\n",
    "\n",
    "Funtion `MSE(w0, w1, x, y)` to calculate the mean squared error for a given weight w0, w1, bias x and output y\n",
    "\n",
    "Function `SSE(w0, w1, x, y)` to calculate the sum of squared error for a given weight w0, w1, bias x and output y"
   ]
  },
  {
   "cell_type": "code",
   "execution_count": 3,
   "metadata": {},
   "outputs": [],
   "source": [
    "def predict(w0, w1, x):\n",
    "    return w0 + w1 * x\n",
    "def MSE(w0, w1, x, y):\n",
    "    return np.mean((y - predict(w0, w1, x)) ** 2)\n",
    "def SSE(w0, w1, x, y):\n",
    "    return np.sum((y - predict(w0, w1, x)) ** 2)"
   ]
  },
  {
   "attachments": {},
   "cell_type": "markdown",
   "metadata": {},
   "source": [
    "e is the learning rate"
   ]
  },
  {
   "cell_type": "code",
   "execution_count": 4,
   "metadata": {},
   "outputs": [
    {
     "data": {
      "text/html": [
       "<div>\n",
       "<style scoped>\n",
       "    .dataframe tbody tr th:only-of-type {\n",
       "        vertical-align: middle;\n",
       "    }\n",
       "\n",
       "    .dataframe tbody tr th {\n",
       "        vertical-align: top;\n",
       "    }\n",
       "\n",
       "    .dataframe thead th {\n",
       "        text-align: right;\n",
       "    }\n",
       "</style>\n",
       "<table border=\"1\" class=\"dataframe\">\n",
       "  <thead>\n",
       "    <tr style=\"text-align: right;\">\n",
       "      <th></th>\n",
       "      <th>Year</th>\n",
       "      <th>x (thu nhap)</th>\n",
       "      <th>y (tieu dung)</th>\n",
       "      <th>y predicted</th>\n",
       "      <th>e</th>\n",
       "      <th>e^2</th>\n",
       "    </tr>\n",
       "  </thead>\n",
       "  <tbody>\n",
       "    <tr>\n",
       "      <th>0</th>\n",
       "      <td>1970</td>\n",
       "      <td>751.6</td>\n",
       "      <td>672.1</td>\n",
       "      <td>751.6</td>\n",
       "      <td>79.5</td>\n",
       "      <td>6320.25</td>\n",
       "    </tr>\n",
       "    <tr>\n",
       "      <th>1</th>\n",
       "      <td>1971</td>\n",
       "      <td>779.2</td>\n",
       "      <td>696.8</td>\n",
       "      <td>779.2</td>\n",
       "      <td>82.4</td>\n",
       "      <td>6789.76</td>\n",
       "    </tr>\n",
       "    <tr>\n",
       "      <th>2</th>\n",
       "      <td>1972</td>\n",
       "      <td>810.3</td>\n",
       "      <td>737.1</td>\n",
       "      <td>810.3</td>\n",
       "      <td>73.2</td>\n",
       "      <td>5358.24</td>\n",
       "    </tr>\n",
       "    <tr>\n",
       "      <th>3</th>\n",
       "      <td>1973</td>\n",
       "      <td>864.7</td>\n",
       "      <td>767.9</td>\n",
       "      <td>864.7</td>\n",
       "      <td>96.8</td>\n",
       "      <td>9370.24</td>\n",
       "    </tr>\n",
       "    <tr>\n",
       "      <th>4</th>\n",
       "      <td>1974</td>\n",
       "      <td>857.5</td>\n",
       "      <td>762.8</td>\n",
       "      <td>857.5</td>\n",
       "      <td>94.7</td>\n",
       "      <td>8968.09</td>\n",
       "    </tr>\n",
       "    <tr>\n",
       "      <th>5</th>\n",
       "      <td>1975</td>\n",
       "      <td>874.9</td>\n",
       "      <td>779.4</td>\n",
       "      <td>874.9</td>\n",
       "      <td>95.5</td>\n",
       "      <td>9120.25</td>\n",
       "    </tr>\n",
       "    <tr>\n",
       "      <th>6</th>\n",
       "      <td>1976</td>\n",
       "      <td>906.8</td>\n",
       "      <td>823.1</td>\n",
       "      <td>906.8</td>\n",
       "      <td>83.7</td>\n",
       "      <td>7005.69</td>\n",
       "    </tr>\n",
       "    <tr>\n",
       "      <th>7</th>\n",
       "      <td>1977</td>\n",
       "      <td>942.9</td>\n",
       "      <td>864.3</td>\n",
       "      <td>942.9</td>\n",
       "      <td>78.6</td>\n",
       "      <td>6177.96</td>\n",
       "    </tr>\n",
       "    <tr>\n",
       "      <th>8</th>\n",
       "      <td>1978</td>\n",
       "      <td>988.8</td>\n",
       "      <td>903.2</td>\n",
       "      <td>988.8</td>\n",
       "      <td>85.6</td>\n",
       "      <td>7327.36</td>\n",
       "    </tr>\n",
       "    <tr>\n",
       "      <th>9</th>\n",
       "      <td>1979</td>\n",
       "      <td>1015.7</td>\n",
       "      <td>927.6</td>\n",
       "      <td>1015.7</td>\n",
       "      <td>88.1</td>\n",
       "      <td>7761.61</td>\n",
       "    </tr>\n",
       "  </tbody>\n",
       "</table>\n",
       "</div>"
      ],
      "text/plain": [
       "   Year  x (thu nhap)  y (tieu dung)  y predicted     e      e^2\n",
       "0  1970         751.6          672.1        751.6  79.5  6320.25\n",
       "1  1971         779.2          696.8        779.2  82.4  6789.76\n",
       "2  1972         810.3          737.1        810.3  73.2  5358.24\n",
       "3  1973         864.7          767.9        864.7  96.8  9370.24\n",
       "4  1974         857.5          762.8        857.5  94.7  8968.09\n",
       "5  1975         874.9          779.4        874.9  95.5  9120.25\n",
       "6  1976         906.8          823.1        906.8  83.7  7005.69\n",
       "7  1977         942.9          864.3        942.9  78.6  6177.96\n",
       "8  1978         988.8          903.2        988.8  85.6  7327.36\n",
       "9  1979        1015.7          927.6       1015.7  88.1  7761.61"
      ]
     },
     "execution_count": 4,
     "metadata": {},
     "output_type": "execute_result"
    }
   ],
   "source": [
    "w0 = 0\n",
    "w1 = 1\n",
    "df['y predicted'] = predict(w0, w1, df['x (thu nhap)'])\n",
    "df['e'] =  df['y predicted'] - df['y (tieu dung)']\n",
    "df['e^2'] = df['e'] ** 2\n",
    "df"
   ]
  },
  {
   "cell_type": "code",
   "execution_count": 5,
   "metadata": {},
   "outputs": [
    {
     "data": {
      "text/plain": [
       "(74199.45000000001, 7419.9450000000015)"
      ]
     },
     "execution_count": 5,
     "metadata": {},
     "output_type": "execute_result"
    }
   ],
   "source": [
    "sse = SSE(w0, w1, df['x (thu nhap)'], df['y (tieu dung)'])\n",
    "mse = MSE(w0, w1, df['x (thu nhap)'], df['y (tieu dung)'])\n",
    "sse, mse"
   ]
  },
  {
   "cell_type": "code",
   "execution_count": 6,
   "metadata": {},
   "outputs": [
    {
     "data": {
      "text/html": [
       "<div>\n",
       "<style scoped>\n",
       "    .dataframe tbody tr th:only-of-type {\n",
       "        vertical-align: middle;\n",
       "    }\n",
       "\n",
       "    .dataframe tbody tr th {\n",
       "        vertical-align: top;\n",
       "    }\n",
       "\n",
       "    .dataframe thead th {\n",
       "        text-align: right;\n",
       "    }\n",
       "</style>\n",
       "<table border=\"1\" class=\"dataframe\">\n",
       "  <thead>\n",
       "    <tr style=\"text-align: right;\">\n",
       "      <th></th>\n",
       "      <th>Year</th>\n",
       "      <th>x (thu nhap)</th>\n",
       "      <th>y (tieu dung)</th>\n",
       "      <th>y predicted</th>\n",
       "      <th>e</th>\n",
       "      <th>e^2</th>\n",
       "    </tr>\n",
       "  </thead>\n",
       "  <tbody>\n",
       "    <tr>\n",
       "      <th>0</th>\n",
       "      <td>1970</td>\n",
       "      <td>751.6</td>\n",
       "      <td>672.1</td>\n",
       "      <td>676.44</td>\n",
       "      <td>4.34</td>\n",
       "      <td>18.8356</td>\n",
       "    </tr>\n",
       "    <tr>\n",
       "      <th>1</th>\n",
       "      <td>1971</td>\n",
       "      <td>779.2</td>\n",
       "      <td>696.8</td>\n",
       "      <td>701.28</td>\n",
       "      <td>4.48</td>\n",
       "      <td>20.0704</td>\n",
       "    </tr>\n",
       "    <tr>\n",
       "      <th>2</th>\n",
       "      <td>1972</td>\n",
       "      <td>810.3</td>\n",
       "      <td>737.1</td>\n",
       "      <td>729.27</td>\n",
       "      <td>-7.83</td>\n",
       "      <td>61.3089</td>\n",
       "    </tr>\n",
       "    <tr>\n",
       "      <th>3</th>\n",
       "      <td>1973</td>\n",
       "      <td>864.7</td>\n",
       "      <td>767.9</td>\n",
       "      <td>778.23</td>\n",
       "      <td>10.33</td>\n",
       "      <td>106.7089</td>\n",
       "    </tr>\n",
       "    <tr>\n",
       "      <th>4</th>\n",
       "      <td>1974</td>\n",
       "      <td>857.5</td>\n",
       "      <td>762.8</td>\n",
       "      <td>771.75</td>\n",
       "      <td>8.95</td>\n",
       "      <td>80.1025</td>\n",
       "    </tr>\n",
       "    <tr>\n",
       "      <th>5</th>\n",
       "      <td>1975</td>\n",
       "      <td>874.9</td>\n",
       "      <td>779.4</td>\n",
       "      <td>787.41</td>\n",
       "      <td>8.01</td>\n",
       "      <td>64.1601</td>\n",
       "    </tr>\n",
       "    <tr>\n",
       "      <th>6</th>\n",
       "      <td>1976</td>\n",
       "      <td>906.8</td>\n",
       "      <td>823.1</td>\n",
       "      <td>816.12</td>\n",
       "      <td>-6.98</td>\n",
       "      <td>48.7204</td>\n",
       "    </tr>\n",
       "    <tr>\n",
       "      <th>7</th>\n",
       "      <td>1977</td>\n",
       "      <td>942.9</td>\n",
       "      <td>864.3</td>\n",
       "      <td>848.61</td>\n",
       "      <td>-15.69</td>\n",
       "      <td>246.1761</td>\n",
       "    </tr>\n",
       "    <tr>\n",
       "      <th>8</th>\n",
       "      <td>1978</td>\n",
       "      <td>988.8</td>\n",
       "      <td>903.2</td>\n",
       "      <td>889.92</td>\n",
       "      <td>-13.28</td>\n",
       "      <td>176.3584</td>\n",
       "    </tr>\n",
       "    <tr>\n",
       "      <th>9</th>\n",
       "      <td>1979</td>\n",
       "      <td>1015.7</td>\n",
       "      <td>927.6</td>\n",
       "      <td>914.13</td>\n",
       "      <td>-13.47</td>\n",
       "      <td>181.4409</td>\n",
       "    </tr>\n",
       "  </tbody>\n",
       "</table>\n",
       "</div>"
      ],
      "text/plain": [
       "   Year  x (thu nhap)  y (tieu dung)  y predicted      e       e^2\n",
       "0  1970         751.6          672.1       676.44   4.34   18.8356\n",
       "1  1971         779.2          696.8       701.28   4.48   20.0704\n",
       "2  1972         810.3          737.1       729.27  -7.83   61.3089\n",
       "3  1973         864.7          767.9       778.23  10.33  106.7089\n",
       "4  1974         857.5          762.8       771.75   8.95   80.1025\n",
       "5  1975         874.9          779.4       787.41   8.01   64.1601\n",
       "6  1976         906.8          823.1       816.12  -6.98   48.7204\n",
       "7  1977         942.9          864.3       848.61 -15.69  246.1761\n",
       "8  1978         988.8          903.2       889.92 -13.28  176.3584\n",
       "9  1979        1015.7          927.6       914.13 -13.47  181.4409"
      ]
     },
     "execution_count": 6,
     "metadata": {},
     "output_type": "execute_result"
    }
   ],
   "source": [
    "w0 = 0\n",
    "w1 = 0.9\n",
    "df['y predicted'] = predict(w0, w1, df['x (thu nhap)'])\n",
    "df['e'] =  df['y predicted'] - df['y (tieu dung)']\n",
    "df['e^2'] = df['e'] ** 2\n",
    "df"
   ]
  },
  {
   "attachments": {},
   "cell_type": "markdown",
   "metadata": {},
   "source": [
    "Find the regression coefficients a and b with the formula given\n"
   ]
  },
  {
   "cell_type": "code",
   "execution_count": 7,
   "metadata": {},
   "outputs": [
    {
     "name": "stdout",
     "output_type": "stream",
     "text": [
      "[-67.58065089   0.97926692]\n"
     ]
    }
   ],
   "source": [
    "one = np.ones((10, ))\n",
    "x = np.array([one, df['x (thu nhap)'].values]).T\n",
    "y = np.array(df['y (tieu dung)'].values)\n",
    "\n",
    "w = np.linalg.inv(x.T.dot(x)).dot(x.T).dot(y)\n",
    "print(w)"
   ]
  },
  {
   "cell_type": "code",
   "execution_count": 8,
   "metadata": {},
   "outputs": [
    {
     "name": "stdout",
     "output_type": "stream",
     "text": [
      "[1.  0.9]\n",
      "y = 1.0 + 0.9x\n"
     ]
    }
   ],
   "source": [
    "x0 = np.ones((4,))\n",
    "x = np.array([x0, [1, 2, 3, 4]]).T\n",
    "y = np.array([2, 3, 3, 5])\n",
    "\n",
    "w = np.linalg.inv(x.T.dot(x)).dot(x.T).dot(y)\n",
    "print(w)\n",
    "print('y = {} + {}x'.format(w[0], round(w[1], 1)))"
   ]
  },
  {
   "cell_type": "code",
   "execution_count": 9,
   "metadata": {},
   "outputs": [
    {
     "name": "stdout",
     "output_type": "stream",
     "text": [
      "[-0.30434783  1.08695652  0.30434783]\n",
      "y = -0.3043478260869614 + 1.1x1 + 0.3x2\n"
     ]
    }
   ],
   "source": [
    "x0 = np.ones((4,))\n",
    "x1 = np.array([1, 2, 3, 4])\n",
    "x2 = np.array([1, 3, 4, 3])\n",
    "y = np.array([1, 3, 4, 5])\n",
    "X = np.array([x0, x1, x2]).T\n",
    "\n",
    "w = np.linalg.inv(X.T.dot(X)).dot(X.T).dot(y)\n",
    "print(w)\n",
    "print('y = {} + {}x1 + {}x2'.format(w[0], round(w[1], 1), round(w[2], 1)))"
   ]
  }
 ],
 "metadata": {
  "kernelspec": {
   "display_name": "Python 3",
   "language": "python",
   "name": "python3"
  },
  "language_info": {
   "codemirror_mode": {
    "name": "ipython",
    "version": 3
   },
   "file_extension": ".py",
   "mimetype": "text/x-python",
   "name": "python",
   "nbconvert_exporter": "python",
   "pygments_lexer": "ipython3",
   "version": "3.11.0"
  },
  "orig_nbformat": 4,
  "vscode": {
   "interpreter": {
    "hash": "72b2382ece9768098284d92bbc69d35954e75b60d1e25897d1389c232f4796f0"
   }
  }
 },
 "nbformat": 4,
 "nbformat_minor": 2
}
